{
 "cells": [
  {
   "cell_type": "markdown",
   "id": "77717348",
   "metadata": {},
   "source": [
    "# Data Science Tools and Ecosystem"
   ]
  },
  {
   "cell_type": "markdown",
   "id": "3e891bfe",
   "metadata": {},
   "source": [
    "## Introduction\n",
    "\n",
    "In this notebook, Data Science Tools and Ecosystem are summarized.\n"
   ]
  },
  {
   "cell_type": "markdown",
   "id": "01932b34",
   "metadata": {},
   "source": [
    "## Data Science Languages\n",
    "\n",
    "- Python\n",
    "- R\n",
    "- SQL\n",
    "- Julia\n",
    "- Scala\n"
   ]
  },
  {
   "cell_type": "markdown",
   "id": "29563349",
   "metadata": {},
   "source": [
    "## Data Science Libraries\n",
    "\n",
    "- Pandas\n",
    "- NumPy\n",
    "- Scikit-learn\n",
    "- TensorFlow\n",
    "- Keras\n",
    "- ggplot2\n",
    "- Matplotlib\n"
   ]
  },
  {
   "cell_type": "markdown",
   "id": "85bf2731",
   "metadata": {},
   "source": [
    "## Data Science Tools\n",
    "\n",
    "| Tool        | Purpose             |\n",
    "|-------------|---------------------|\n",
    "| Jupyter     | Interactive coding  |\n",
    "| VS Code     | Code editor         |\n",
    "| Git         | Version control     |\n",
    "| Tableau     | Data visualization  |\n",
    "| Excel       | Data manipulation   |\n"
   ]
  },
  {
   "cell_type": "markdown",
   "id": "520164fb",
   "metadata": {},
   "source": [
    "## Arithmetic Expression Examples\n",
    "\n",
    "Let's explore some examples of arithmetic expressions in this section.\n"
   ]
  },
  {
   "cell_type": "code",
   "execution_count": 3,
   "id": "499bc7da",
   "metadata": {},
   "outputs": [
    {
     "name": "stdout",
     "output_type": "stream",
     "text": [
      "Multiplication Result: 50\n",
      "Addition Result: 15\n"
     ]
    }
   ],
   "source": [
    "# Multiplication\n",
    "result_mult = 5 * 10\n",
    "print(\"Multiplication Result:\", result_mult)\n",
    "\n",
    "# Addition\n",
    "result_add = 5 + 10\n",
    "print(\"Addition Result:\", result_add)\n"
   ]
  },
  {
   "cell_type": "code",
   "execution_count": 4,
   "id": "515885ea",
   "metadata": {},
   "outputs": [
    {
     "name": "stdout",
     "output_type": "stream",
     "text": [
      "120 minutes is equal to 2.00 hours.\n"
     ]
    }
   ],
   "source": [
    "def minutes_to_hours(minutes):\n",
    "    hours = minutes / 60\n",
    "    return hours\n",
    "\n",
    "# Example usage\n",
    "minutes = 120\n",
    "hours = minutes_to_hours(minutes)\n",
    "print(f\"{minutes} minutes is equal to {hours:.2f} hours.\")\n"
   ]
  },
  {
   "cell_type": "markdown",
   "id": "0640acb8",
   "metadata": {},
   "source": [
    "## Objectives\n",
    "\n",
    "1. Explore various data science languages.\n",
    "2. Learn about popular data science libraries.\n",
    "3. Understand key data science tools.\n",
    "4. Practice arithmetic expressions in Python.\n",
    "5. Convert minutes to hours using a Python function.\n"
   ]
  },
  {
   "cell_type": "markdown",
   "id": "2b41a70b",
   "metadata": {},
   "source": [
    "## Author\n",
    "\n",
    "SYED RAHMATH\n"
   ]
  }
 ],
 "metadata": {
  "kernelspec": {
   "display_name": "Python 3 (ipykernel)",
   "language": "python",
   "name": "python3"
  },
  "language_info": {
   "codemirror_mode": {
    "name": "ipython",
    "version": 3
   },
   "file_extension": ".py",
   "mimetype": "text/x-python",
   "name": "python",
   "nbconvert_exporter": "python",
   "pygments_lexer": "ipython3",
   "version": "3.10.9"
  }
 },
 "nbformat": 4,
 "nbformat_minor": 5
}
